{
 "cells": [
  {
   "cell_type": "markdown",
   "metadata": {},
   "source": [
    "# Image Recognition (with keras)"
   ]
  },
  {
   "cell_type": "markdown",
   "metadata": {},
   "source": [
    "Example code for the lecture series \"Machine Learning for Physicists\" by Florian Marquardt\n",
    "\n",
    "Session 4: Homework for lecture 3\n",
    "\n",
    "See https://machine-learning-for-physicists.org and the current course website linked there!"
   ]
  },
  {
   "cell_type": "markdown",
   "metadata": {},
   "source": [
    "This notebook shows how to:\n",
    "- recognize images (softmax, cross-entropy), using dense layers\n",
    "\n"
   ]
  },
  {
   "cell_type": "markdown",
   "metadata": {},
   "source": [
    "### Imports: numpy and matplotlib and keras"
   ]
  },
  {
   "cell_type": "code",
   "execution_count": null,
   "metadata": {},
   "outputs": [],
   "source": [
    "# keras: Sequential is the neural-network class, Dense is\n",
    "# the standard network layer\n",
    "from tensorflow.keras import Sequential\n",
    "from tensorflow.keras.layers import Dense\n",
    "from tensorflow.keras import optimizers # to choose more advanced optimizers like 'adam'\n",
    "\n",
    "from tqdm import tqdm # progress bar\n",
    "\n",
    "import numpy as np\n",
    "\n",
    "import matplotlib.pyplot as plt # for plotting\n",
    "import matplotlib\n",
    "matplotlib.rcParams['figure.dpi']=300 # highres display\n",
    "\n",
    "# for updating display \n",
    "# (very simple animation)\n",
    "from IPython.display import clear_output\n",
    "from time import sleep"
   ]
  },
  {
   "cell_type": "markdown",
   "metadata": {},
   "source": [
    "# Telling Lorentzians from Gaussians!"
   ]
  },
  {
   "cell_type": "code",
   "execution_count": null,
   "metadata": {},
   "outputs": [],
   "source": [
    "N=100 # number of pixels in 'image'\n",
    "\n",
    "Net=Sequential()\n",
    "Net.add(Dense(30,input_shape=(N,), activation=\"relu\"))\n",
    "Net.add(Dense(20,activation=\"relu\"))\n",
    "Net.add(Dense(2,activation=\"softmax\"))\n",
    "\n",
    "Net.compile(loss='categorical_crossentropy', \n",
    "            optimizer='adam', \n",
    "            metrics=['categorical_accuracy'])\n"
   ]
  },
  {
   "cell_type": "code",
   "execution_count": null,
   "metadata": {},
   "outputs": [],
   "source": [
    "def my_generator1D(batchsize,x): # produce a batch of curves, randomly Lorentzian or Gaussian\n",
    "    R=np.random.uniform(size=batchsize) # width\n",
    "    A=np.random.uniform(size=batchsize) # amplitude\n",
    "    x0=np.random.uniform(size=batchsize,low=-1,high=1) # position\n",
    "    IsLorentzian=(np.random.uniform(size=batchsize)<0.5)*1.0 # Lorentzian? (==1) or Gaussian?\n",
    "    Lorentzians=A[:,None]/(((x[None,:]-x0[:,None])/R[:,None])**2+1) # make many random Lorentzians\n",
    "    Gaussians=A[:,None]*np.exp(-((x[None,:]-x0[:,None])/R[:,None])**2) # make many random Gaussians\n",
    "    inputLayer=IsLorentzian[:,None]*Lorentzians + (1-IsLorentzian[:,None])*Gaussians # now pick whatever type was decided\n",
    "    resultLayer=np.zeros([batchsize,2])\n",
    "    resultLayer[:,0]=IsLorentzian\n",
    "    resultLayer[:,1]=1-IsLorentzian # we could easily have more than just two categories\n",
    "    return( inputLayer, resultLayer )\n",
    "\n"
   ]
  },
  {
   "cell_type": "code",
   "execution_count": null,
   "metadata": {},
   "outputs": [],
   "source": [
    "batchsize=20\n",
    "steps=1000\n",
    "\n",
    "x=np.linspace(-1,1,N)\n",
    "costs=np.zeros(steps)\n",
    "accuracy=np.zeros(steps)\n",
    "skipsteps=10\n",
    "\n",
    "for j in range(steps):\n",
    "    y_in,y_target=my_generator1D(batchsize,x)\n",
    "    costs[j],accuracy[j]=Net.train_on_batch(y_in,y_target)\n",
    "    if j%skipsteps==0:\n",
    "        clear_output(wait=True)\n",
    "        plt.plot(costs,color=\"darkblue\",label=\"cost\")\n",
    "        plt.plot(accuracy,color=\"orange\",label=\"accuracy\")\n",
    "        plt.legend()\n",
    "        plt.show()"
   ]
  },
  {
   "cell_type": "code",
   "execution_count": null,
   "metadata": {},
   "outputs": [],
   "source": [
    "# plot some examples:\n",
    "\n",
    "y_pred=Net.predict_on_batch(y_in)\n",
    "n_samples=10\n",
    "fig,ax=plt.subplots(ncols=n_samples,nrows=1,figsize=(10,1))\n",
    "Name={}\n",
    "Name[True]=\"L\" # Lorentz\n",
    "Name[False]=\"G\" # Gauss\n",
    "for j in range(n_samples):\n",
    "    ax[j].plot(y_in[j,:])\n",
    "    ax[j].set_ylim([-0.1,1])\n",
    "    ax[j].axis('off')\n",
    "    ax[j].set_title(Name[y_target[j,0]>0.5]+\"/\"+Name[y_pred[j,0]>0.5])\n",
    "plt.show()\n",
    "    \n",
    "print(\"True Category / Network Prediction\")\n"
   ]
  },
  {
   "cell_type": "markdown",
   "metadata": {},
   "source": [
    "# Random circles or squares"
   ]
  },
  {
   "cell_type": "code",
   "execution_count": null,
   "metadata": {},
   "outputs": [],
   "source": [
    "# produce random circles or squares in 2D\n",
    "\n",
    "def my_generator2D(batchsize,x,y):\n",
    "    R=np.random.uniform(low=0.2,high=1,size=batchsize)\n",
    "    x0=np.random.uniform(size=batchsize,low=-0.8,high=0.8)\n",
    "    y0=np.random.uniform(size=batchsize,low=-0.8,high=0.8)\n",
    "    IsCircle=(np.random.uniform(size=batchsize)<0.5)*1.0 # Circle? (==1) or Square?\n",
    "    Circles=1.0*((x[None,:]-x0[:,None])**2 + (y[None,:]-y0[:,None])**2 < R[:,None]**2)\n",
    "    Squares=1.0*(np.abs(x[None,:]-x0[:,None])<R[:,None])*(np.abs(y[None,:]-y0[:,None])<R[:,None])\n",
    "    inputLayer=IsCircle[:,None]*Circles + (1-IsCircle[:,None])*Squares\n",
    "    resultLayer=np.zeros([batchsize,2])\n",
    "    resultLayer[:,0]=IsCircle\n",
    "    resultLayer[:,1]=1-IsCircle\n",
    "    return( inputLayer, resultLayer  )\n",
    "\n"
   ]
  },
  {
   "cell_type": "code",
   "execution_count": null,
   "metadata": {},
   "outputs": [],
   "source": [
    "N=20 # number of pixels in 'image'\n",
    "\n",
    "Net=Sequential()\n",
    "Net.add(Dense(30,input_shape=(N**2,), activation=\"relu\"))\n",
    "Net.add(Dense(20,activation=\"relu\"))\n",
    "Net.add(Dense(2,activation=\"softmax\"))\n",
    "\n",
    "Net.compile(loss='categorical_crossentropy', \n",
    "            optimizer='adam', \n",
    "            metrics=['categorical_accuracy'])\n",
    "\n"
   ]
  },
  {
   "cell_type": "code",
   "execution_count": null,
   "metadata": {},
   "outputs": [],
   "source": [
    "batchsize=20\n",
    "steps=1000\n",
    "\n",
    "vals=np.linspace(-1,1,N)\n",
    "X,Y=np.meshgrid(vals,vals)\n",
    "x,y=X.flatten(),Y.flatten() # make 1D arrays, as needed for dense layers!\n",
    "\n",
    "costs=np.zeros(steps)\n",
    "accuracy=np.zeros(steps)\n",
    "skipsteps=10\n",
    "\n",
    "for j in range(steps):\n",
    "    y_in,y_target=my_generator2D(batchsize,x,y)\n",
    "    costs[j],accuracy[j]=Net.train_on_batch(y_in,y_target)\n",
    "    if j%skipsteps==0:\n",
    "        clear_output(wait=True)\n",
    "        plt.plot(costs,color=\"darkblue\",label=\"cost\")\n",
    "        plt.plot(accuracy,color=\"orange\",label=\"accuracy\")\n",
    "        plt.legend()\n",
    "        plt.show()"
   ]
  },
  {
   "cell_type": "code",
   "execution_count": null,
   "metadata": {},
   "outputs": [],
   "source": [
    "# plot some examples:\n",
    "\n",
    "y_pred=Net.predict_on_batch(y_in)\n",
    "n_samples=10\n",
    "fig,ax=plt.subplots(ncols=n_samples,nrows=1,figsize=(10,1))\n",
    "Name={}\n",
    "Name[True]=\"C\" # Circle\n",
    "Name[False]=\"S\" # Square\n",
    "for j in range(n_samples):\n",
    "    ax[j].imshow(np.reshape(y_in[j,:],[N,N]),origin='lower')\n",
    "    ax[j].axis('off')\n",
    "    ax[j].set_title(Name[y_target[j,0]>0.5]+\"/\"+Name[y_pred[j,0]>0.5])\n",
    "plt.show()\n",
    "    \n",
    "print(\"True Category / Network Prediction\")\n"
   ]
  },
  {
   "cell_type": "code",
   "execution_count": null,
   "metadata": {},
   "outputs": [],
   "source": []
  }
 ],
 "metadata": {
  "kernelspec": {
   "display_name": "Python 3",
   "language": "python",
   "name": "python3"
  },
  "language_info": {
   "codemirror_mode": {
    "name": "ipython",
    "version": 3
   },
   "file_extension": ".py",
   "mimetype": "text/x-python",
   "name": "python",
   "nbconvert_exporter": "python",
   "pygments_lexer": "ipython3",
   "version": "3.8.5"
  }
 },
 "nbformat": 4,
 "nbformat_minor": 4
}
