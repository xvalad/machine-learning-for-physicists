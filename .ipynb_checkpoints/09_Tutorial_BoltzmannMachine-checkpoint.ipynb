{
 "cells": [
  {
   "cell_type": "markdown",
   "metadata": {},
   "source": [
    "# Tutorial: Boltzmann Machines\n",
    "\n",
    "This shows how to train a Boltzmann machine, to sample from an observed probability distribution."
   ]
  },
  {
   "cell_type": "markdown",
   "metadata": {},
   "source": [
    "Example code for the lecture series \"Machine Learning for Physicists\" by Florian Marquardt\n",
    "\n",
    "Lecture 9, Tutorial (this is discussed in session 9)\n",
    "\n",
    "See https://machine-learning-for-physicists.org and the current course website linked there!\n",
    "\n",
    "This notebook is distributed under the Attribution-ShareAlike 4.0 International (CC BY-SA 4.0) license:\n",
    "\n",
    "https://creativecommons.org/licenses/by-sa/4.0/"
   ]
  },
  {
   "cell_type": "markdown",
   "metadata": {},
   "source": [
    "This notebook shows how to:\n",
    "- use a Boltzmann machine to sample from an observed high-dimensional probability distribution (e.g. produce images that look similar to observed training images)\n"
   ]
  },
  {
   "cell_type": "code",
   "execution_count": null,
   "metadata": {},
   "outputs": [],
   "source": [
    "import numpy as np\n",
    "import matplotlib.pyplot as plt\n",
    "import matplotlib\n",
    "matplotlib.rcParams['figure.dpi']=300 # highres display\n",
    "\n",
    "from IPython.display import clear_output\n",
    "from time import sleep"
   ]
  },
  {
   "cell_type": "code",
   "execution_count": null,
   "metadata": {},
   "outputs": [],
   "source": [
    "def BoltzmannStep(v,b,w):\n",
    "    \"\"\"\n",
    "    Perform a single step of the Markov chain,\n",
    "    going from visible units v to hidden units h,\n",
    "    according to biases b and weights w.\n",
    "    \n",
    "    z_j = b_j + sum_i v_i w_ij\n",
    "    \n",
    "    and P(h_j=1|v) = 1/(exp(-z_j)+1)\n",
    "    \n",
    "    Note: you can go from h to v, by inserting\n",
    "    instead of v the h, instead of b the a, and\n",
    "    instead of w the transpose of w\n",
    "    \"\"\"\n",
    "    batchsize=np.shape(v)[0]\n",
    "    hidden_dim=np.shape(w)[1]\n",
    "    z=b+np.dot(v,w)\n",
    "    P=1/(np.exp(-z)+1)\n",
    "    # now, the usual trick to obtain 0 or 1 according\n",
    "    # to a given probability distribution:\n",
    "    # just produce uniform (in [0,1]) random numbers and\n",
    "    # check whether they are below the cutoff given by P\n",
    "    p=np.random.uniform(size=[batchsize,hidden_dim])\n",
    "    return(np.array(p<=P,dtype='int'))\n",
    "    \n",
    "def BoltzmannSequence(v,a,b,w,drop_h_prime=False):\n",
    "    \"\"\"\n",
    "    Perform one sequence of steps v -> h -> v' -> h'\n",
    "    of a Boltzmann machine, with the given\n",
    "    weights w and biases a and b!\n",
    "    \n",
    "    All the arrays have a shape [batchsize,num_neurons]\n",
    "    (where num_neurons is num_visible for v and\n",
    "    num_hidden for h)\n",
    "    \n",
    "    You can set drop_h_prime to True if you want to\n",
    "    use this routine to generate arbitrarily long sequences\n",
    "    by calling it repeatedly (then don't use h')\n",
    "    Returns: v,h,v',h'\n",
    "    \"\"\"\n",
    "    h=BoltzmannStep(v,b,w)\n",
    "    v_prime=BoltzmannStep(h,a,np.transpose(w))\n",
    "    if not drop_h_prime:\n",
    "        h_prime=BoltzmannStep(v_prime,b,w)\n",
    "    else:\n",
    "        h_prime=np.zeros(np.shape(h))\n",
    "    return(v,h,v_prime,h_prime)\n",
    "\n",
    "def trainStep(v,a,b,w):\n",
    "    \"\"\"\n",
    "    Given a set of randomly selected training samples\n",
    "    v (of shape [batchsize,num_neurons_visible]), \n",
    "    and given biases a,b and weights w: update\n",
    "    those biases and weights according to the\n",
    "    contrastive-divergence update rules:\n",
    "    \n",
    "    delta w_ij = eta ( <v_i h_j> - <v'_i h'_j> )\n",
    "    delta a_i  = eta ( <v_i> - <v'_i>)\n",
    "    delta b_j  = eta ( <h_j> - <h'_j>)\n",
    "    \n",
    "    Returns delta_a, delta_b, delta_w, but without the eta factor!\n",
    "    It is up to you to update a,b,w!\n",
    "    \"\"\"\n",
    "    v,h,v_prime,h_prime=BoltzmannSequence(v,a,b,w)\n",
    "    return( np.average(v,axis=0)-np.average(v_prime,axis=0) ,\n",
    "            np.average(h,axis=0)-np.average(h_prime,axis=0) ,\n",
    "            np.average(v[:,:,None]*h[:,None,:],axis=0)-\n",
    "               np.average(v_prime[:,:,None]*h_prime[:,None,:],axis=0) )\n"
   ]
  },
  {
   "cell_type": "code",
   "execution_count": null,
   "metadata": {},
   "outputs": [],
   "source": [
    "def produce_samples_random_segment(batchsize,num_visible,max_distance=3):\n",
    "    \"\"\"\n",
    "    Produce 'batchsize' samples, of length num_visible.\n",
    "    Returns array v of shape [batchsize,num_visible]\n",
    "    \n",
    "    This here: produces randomly placed segments of\n",
    "    size 2*max_distance.\n",
    "    \"\"\"\n",
    "    random_pos=num_visible*np.random.uniform(size=batchsize)\n",
    "    j=np.arange(0,num_visible)\n",
    "    \n",
    "    return( np.array( np.abs(j[None,:]-random_pos[:,None])<=max_distance, dtype='int' ) )"
   ]
  },
  {
   "cell_type": "code",
   "execution_count": null,
   "metadata": {},
   "outputs": [],
   "source": [
    "# Now: the training\n",
    "\n",
    "num_visible=20\n",
    "num_hidden=10\n",
    "batchsize=50\n",
    "eta=0.1\n",
    "nsteps=500\n",
    "skipsteps=10\n",
    "\n",
    "a=np.random.randn(num_visible)\n",
    "b=np.random.randn(num_hidden)\n",
    "w=np.random.randn(num_visible,num_hidden)\n",
    "\n",
    "test_samples=np.zeros([num_visible,nsteps])\n",
    "\n",
    "for j in range(nsteps):\n",
    "    v=produce_samples_random_segment(batchsize,num_visible)\n",
    "    da,db,dw=trainStep(v,a,b,w)\n",
    "    a+=eta*da\n",
    "    b+=eta*db\n",
    "    w+=eta*dw\n",
    "    test_samples[:,j]=v[0,:]\n",
    "    if j%skipsteps==0 or j==nsteps-1:\n",
    "        clear_output(wait=True)\n",
    "        plt.figure(figsize=(10,3))\n",
    "        plt.imshow(test_samples,origin='lower',aspect='auto',interpolation='none')\n",
    "        plt.axis('off')\n",
    "        plt.show()"
   ]
  },
  {
   "cell_type": "code",
   "execution_count": null,
   "metadata": {},
   "outputs": [],
   "source": [
    "# Now: visualize the typical samples generated (from some starting point)\n",
    "# run several times to continue this. It basically is a random walk\n",
    "# through the space of all possible configurations, hopefully according\n",
    "# to the probability distribution that has been trained!\n",
    "\n",
    "nsteps=100\n",
    "test_samples=np.zeros([num_visible,nsteps])\n",
    "\n",
    "v_prime=np.zeros(num_visible)\n",
    "h=np.zeros(num_hidden)\n",
    "h_prime=np.zeros(num_hidden)\n",
    "\n",
    "for j in range(nsteps):\n",
    "    v,h,v_prime,h_prime=BoltzmannSequence(v,a,b,w,drop_h_prime=True) # step from v via h to v_prime!\n",
    "    test_samples[:,j]=v[0,:]\n",
    "    v=np.copy(v_prime) # use the new v as a starting point for next step!\n",
    "    if j%skipsteps==0 or j==nsteps-1:\n",
    "        clear_output(wait=True)\n",
    "        plt.imshow(test_samples,origin='lower',interpolation='none')\n",
    "        plt.show()"
   ]
  },
  {
   "cell_type": "code",
   "execution_count": null,
   "metadata": {},
   "outputs": [],
   "source": [
    "# Now show the weight matrix\n",
    "\n",
    "plt.figure(figsize=(0.2*num_visible,0.2*num_hidden))\n",
    "plt.imshow(w,origin='lower',aspect='auto')\n",
    "plt.show()"
   ]
  },
  {
   "cell_type": "markdown",
   "metadata": {},
   "source": [
    "# Tutorial: train on differently shaped samples (e.g. a bar with both random position and random width)\n",
    "\n",
    "...or two bars, located always at the same distance!"
   ]
  },
  {
   "cell_type": "markdown",
   "metadata": {},
   "source": [
    "# Homework: train on MNIST images!\n",
    "\n",
    "Here the visible units must be a flattened version of the images, something like\n",
    "\n",
    "v=np.reshape(image,[batchsize,widh*height])\n",
    "\n",
    "...if image is of shape [batchsize,width,height], meaning an array holding the pixel values for all images in a batch!\n",
    "\n",
    "...to plot the results, you would use \n",
    "\n",
    "np.reshape(v,[batchsize,width,height])\n",
    "\n",
    "to get back to the image format!"
   ]
  },
  {
   "cell_type": "code",
   "execution_count": null,
   "metadata": {},
   "outputs": [],
   "source": []
  }
 ],
 "metadata": {
  "kernelspec": {
   "display_name": "Python 3",
   "language": "python",
   "name": "python3"
  },
  "language_info": {
   "codemirror_mode": {
    "name": "ipython",
    "version": 3
   },
   "file_extension": ".py",
   "mimetype": "text/x-python",
   "name": "python",
   "nbconvert_exporter": "python",
   "pygments_lexer": "ipython3",
   "version": "3.8.5"
  }
 },
 "nbformat": 4,
 "nbformat_minor": 4
}
