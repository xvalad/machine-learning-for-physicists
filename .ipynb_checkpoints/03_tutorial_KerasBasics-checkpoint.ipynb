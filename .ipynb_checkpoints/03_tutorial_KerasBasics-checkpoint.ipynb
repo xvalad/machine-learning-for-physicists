{
 "cells": [
  {
   "cell_type": "markdown",
   "metadata": {},
   "source": [
    "# Neural Networks with Keras: Minimal Example"
   ]
  },
  {
   "cell_type": "markdown",
   "metadata": {},
   "source": [
    "Example code for the lecture series \"Machine Learning for Physicists\" by Florian Marquardt\n",
    "\n",
    "Lecture 3, Tutorials\n",
    "\n",
    "See https://machine-learning-for-physicists.org and the current course website linked there!"
   ]
  },
  {
   "cell_type": "markdown",
   "metadata": {},
   "source": [
    "This notebook shows how to:\n",
    "- implement and train a simple neural network using keras\n",
    "\n",
    "The networks has 1 input and 1 output neuron, and can be used to fit a 1D function!\n",
    "\n",
    "(see the visualization notebook for lecture 3 to get more advanced functionality. This here is kept as simple as possible!)"
   ]
  },
  {
   "cell_type": "markdown",
   "metadata": {},
   "source": [
    "### Imports: numpy and matplotlib and keras"
   ]
  },
  {
   "cell_type": "code",
   "execution_count": null,
   "metadata": {},
   "outputs": [],
   "source": [
    "# keras:\n",
    "from tensorflow.keras import Sequential # Sequential is the neural-network class\n",
    "from tensorflow.keras.layers import Dense # Dense is the standard network layer\n",
    "\n",
    "# array math:\n",
    "import numpy as np\n",
    "\n",
    "# plotting:\n",
    "import matplotlib.pyplot as plt\n",
    "import matplotlib\n",
    "matplotlib.rcParams['figure.dpi']=300 # highres display"
   ]
  },
  {
   "cell_type": "code",
   "execution_count": null,
   "metadata": {},
   "outputs": [],
   "source": [
    "# Define network:\n",
    "Net=Sequential() # creating a neural network!\n",
    "Net.add(Dense(20,input_shape=(1,),activation=\"sigmoid\")) # first hidden layer: 20 neurons (and 1 input neuron!)\n",
    "Net.add(Dense(10,activation=\"sigmoid\")) # second hidden layer: 10 neurons\n",
    "Net.add(Dense(1,activation=\"linear\")) # output layer: 1 neuron \"relu\"\n",
    "\n",
    "# Compile network: (randomly initialize weights, choose advanced optimizer, set up everything!)\n",
    "Net.compile(loss='mean_squared_error',\n",
    "              optimizer='adam') # adam is adaptive and works better than normal gradient descent"
   ]
  },
  {
   "cell_type": "code",
   "execution_count": null,
   "metadata": {},
   "outputs": [],
   "source": [
    "# run this cell multiple times to train the network better and better!\n",
    "\n",
    "# a simple 1D function:\n",
    "def my_target(y):\n",
    "    return( np.sin(y)/(1+y**2) ) # a wave packet...\n",
    "\n",
    "# training on a simple 1D function:\n",
    "\n",
    "training_batches=1000 # number of training batches\n",
    "batchsize=20 # samples per batch\n",
    "costs=np.zeros(training_batches) # array for storing costs\n",
    "\n",
    "# run through all training batches:\n",
    "for j in range(training_batches):\n",
    "    y_in=np.random.uniform(low=-10.0,high=+10.0,size=[batchsize,1]) # get randomly scattered points (uniform distribution)\n",
    "    y_target=my_target(y_in) # produce correct outputs (our target)\n",
    "    costs[j]=Net.train_on_batch(y_in,y_target) # train on this batch of samples\n",
    "    print(str(costs[j]),end=\"   \\r\") # print current cost function, overwrite line always\n",
    "    \n",
    "# now plot the output:\n",
    "\n",
    "# get the output on a 1D grid of points:\n",
    "N=400 # number of points\n",
    "y_in=np.zeros([N,1]) # prepare correct shape for network, here N becomes the batch size\n",
    "y_in[:,0]=np.linspace(-20.0,20.0,N) # fill with interval\n",
    "y_out=Net.predict_on_batch(y_in) # apply the network to this set of points!\n",
    "\n",
    "# plot it!\n",
    "plt.plot(y_in,y_out,label=\"NN\")\n",
    "plt.plot(y_in,my_target(y_in),color=\"orange\",label=\"true\")\n",
    "plt.legend()\n",
    "plt.show()"
   ]
  },
  {
   "cell_type": "markdown",
   "metadata": {},
   "source": [
    "# Tutorials: Exercises"
   ]
  },
  {
   "cell_type": "markdown",
   "metadata": {},
   "source": [
    "## Exercise 1: explore how the network structure and activations help to get a better fit!"
   ]
  },
  {
   "cell_type": "markdown",
   "metadata": {},
   "source": [
    "Vary the number of layers, the neurons per layer, and the activation functions!\n",
    "\n",
    "Keep the number of training batches and the batch size the same for each case!"
   ]
  },
  {
   "cell_type": "markdown",
   "metadata": {},
   "source": [
    "## Exercise 2: explore different target functions\n",
    "\n",
    "Understand which functions present difficulties for the neural network!"
   ]
  },
  {
   "cell_type": "code",
   "execution_count": null,
   "metadata": {},
   "outputs": [],
   "source": []
  }
 ],
 "metadata": {
  "kernelspec": {
   "display_name": "Python 3",
   "language": "python",
   "name": "python3"
  },
  "language_info": {
   "codemirror_mode": {
    "name": "ipython",
    "version": 3
   },
   "file_extension": ".py",
   "mimetype": "text/x-python",
   "name": "python",
   "nbconvert_exporter": "python",
   "pygments_lexer": "ipython3",
   "version": "3.8.5"
  }
 },
 "nbformat": 4,
 "nbformat_minor": 4
}
